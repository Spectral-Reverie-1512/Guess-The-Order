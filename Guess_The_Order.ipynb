{
  "nbformat": 4,
  "nbformat_minor": 0,
  "metadata": {
    "colab": {
      "provenance": [],
      "authorship_tag": "ABX9TyMwNQBI/7hWn/wHPYX14+FQ",
      "include_colab_link": true
    },
    "kernelspec": {
      "name": "python3",
      "display_name": "Python 3"
    },
    "language_info": {
      "name": "python"
    }
  },
  "cells": [
    {
      "cell_type": "markdown",
      "metadata": {
        "id": "view-in-github",
        "colab_type": "text"
      },
      "source": [
        "<a href=\"https://colab.research.google.com/github/Spectral-Reverie-1512/Guess-The-Order/blob/main/Guess_The_Order.ipynb\" target=\"_parent\"><img src=\"https://colab.research.google.com/assets/colab-badge.svg\" alt=\"Open In Colab\"/></a>"
      ]
    },
    {
      "cell_type": "code",
      "execution_count": 19,
      "metadata": {
        "colab": {
          "base_uri": "https://localhost:8080/"
        },
        "collapsed": true,
        "id": "UIb4foqAhG_v",
        "outputId": "b6a45f95-ceb2-4634-aea7-5099d89c3cc1"
      },
      "outputs": [
        {
          "output_type": "stream",
          "name": "stdout",
          "text": [
            "The colors are as follows: \n",
            "1. Blue\n",
            "2. Yellow\n",
            "3. Green\n",
            "4. Red\n",
            "\n",
            "Guess the correct position of each color in the arrangement below: \n",
            "_ _ _ _ \n",
            "\n",
            "Enter a color: Blue\n",
            "Enter a color: Red\n",
            "Enter a color: green\n",
            "Enter a color: Yellow\n",
            "\n",
            "_   RED   _   _   \n",
            "\n",
            "Enter a color: Yellow\n",
            "Enter a color: Red\n",
            "Enter a color: blue\n",
            "Enter a color: green\n",
            "\n",
            "You got it right!\n",
            "YELLOW   RED   BLUE   GREEN   \n"
          ]
        }
      ],
      "source": [
        "import random\n",
        "\n",
        "#Objective\n",
        "colors = ['blue', 'yellow', 'green', 'red']\n",
        "\n",
        "print(\"The colors are as follows: \")\n",
        "for i in range (len(colors)):\n",
        "  print(str(i+1)+\".\", colors[i].capitalize())\n",
        "print()\n",
        "print(\"Guess the correct position of each color in the arrangement below: \")\n",
        "\n",
        "for i in range (len(colors)):\n",
        "  print(\"_\", end=' ')\n",
        "print()\n",
        "print()\n",
        "\n",
        "\n",
        "#creating a randomized sequence\n",
        "new_col = colors.copy()\n",
        "seq=[]\n",
        "\n",
        "while (len(new_col))>0:\n",
        "  col=random.choice(new_col)\n",
        "  seq.append(col)\n",
        "  new_col.remove(col)\n",
        "\n",
        "\n",
        "\n",
        "#Game Logic\n",
        "def game():\n",
        "  #Allowed guesses\n",
        "  u_guess=[]\n",
        "\n",
        "  i = 0\n",
        "  while i < len(colors):\n",
        "      guess = input(\"Enter a color: \").lower()\n",
        "      if guess not in colors:\n",
        "          print(\"\\nNot a valid guess\")\n",
        "      elif guess in u_guess:\n",
        "          print(\"\\nColor already guessed\")\n",
        "      else:\n",
        "          u_guess.append(guess)\n",
        "          i += 1\n",
        "\n",
        "\n",
        "\n",
        "  # Checking\n",
        "  if seq != u_guess:\n",
        "    print()\n",
        "    for i in range (len(colors)):\n",
        "      if seq[i] != u_guess[i]:\n",
        "        print(\"_\", end=\"   \")\n",
        "      else:\n",
        "        print(seq[i].upper(), end=\"   \")\n",
        "    print()\n",
        "\n",
        "  else:\n",
        "    print()\n",
        "    print(\"You got it right!\")\n",
        "    for i in range (len(colors)):\n",
        "      print(seq[i].upper(), end=\"   \")\n",
        "  print()\n",
        "\n",
        "  return seq, u_guess\n",
        "\n",
        "#Play the game until the sequence matches\n",
        "seq, u_guess = game()\n",
        "while seq != u_guess:\n",
        "    seq, u_guess = game()"
      ]
    }
  ]
}